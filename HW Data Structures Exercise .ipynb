{
 "cells": [
  {
   "cell_type": "code",
   "execution_count": 1,
   "id": "c2023292",
   "metadata": {},
   "outputs": [
    {
     "name": "stdout",
     "output_type": "stream",
     "text": [
      "(1.0, 2.0)\n",
      "(-1.0, -1.0)\n"
     ]
    }
   ],
   "source": [
    "#Exercise 1\n",
    "#Write a function solve_quadratic \n",
    "#returns both solutions of a generic quadratic as a pair (2-tuple) \n",
    "#coefficients are given as parameters\n",
    "#no truncation, rounding or loss of precision\n",
    "#Cite: \"I need to solve a quadratic\"-Tortar at Stackoverflow.com \n",
    "#I don't understand the first half. \n",
    "import math\n",
    " \n",
    "def solve_quadratic(a, b, c):\n",
    "\n",
    "\n",
    "    d = int(b*b) - int(4*a*c)\n",
    "\n",
    "    sol1 = (-b-math.sqrt(d))/(2*a)\n",
    "    sol2 = (-b+math.sqrt(d))/(2*a)\n",
    "\n",
    "    tup = sol1, sol2;\n",
    "\n",
    "    print(tup)\n",
    "\n",
    "\n",
    "    return tup\n",
    "\n",
    "\n",
    "\n",
    "def main():\n",
    "\n",
    "    solve_quadratic(1, -3, 2)\n",
    "    solve_quadratic(1, 2, 1)\n",
    "\n",
    "if __name__ == \"__main__\":\n",
    "    main()"
   ]
  },
  {
   "cell_type": "code",
   "execution_count": 1,
   "id": "817a055c",
   "metadata": {},
   "outputs": [
    {
     "name": "stdout",
     "output_type": "stream",
     "text": [
      "4\n",
      "6\n",
      "-1305797627497368480\n"
     ]
    }
   ],
   "source": [
    "#Exercise 2\n",
    "#Tuples are data structures that look a lot like lists. Unlike lists, \n",
    "#-tuples are immutable (meaning that they cannot be modified once created). This restricts their use because we cannot add, remove, or assign values; \n",
    "#-however, it gives us an advantage in space and time complexities.\n",
    "#tuples are hashable\n",
    "\n",
    "# Tuples in Python - Hacker Rank Solution\n",
    "if __name__ == '__main__':\n",
    "    n = int(input())\n",
    "    integer_list = map(int, input().split())\n",
    "    # Tuples in Python - Hacker Rank Solution START\n",
    "    t = tuple(integer_list)\n",
    "    print(hash(t));\n",
    "    # Tuples in Python - Hacker Rank Solution END"
   ]
  },
  {
   "cell_type": "code",
   "execution_count": 2,
   "id": "ee8b0033",
   "metadata": {},
   "outputs": [
    {
     "name": "stdout",
     "output_type": "stream",
     "text": [
      "2 9 8 7 5\n",
      "<class 'list'>\n",
      "(2, 9, 8, 7, 5)\n"
     ]
    }
   ],
   "source": [
    "#Exercise 2 easier solution \n",
    "\n",
    "y = list(map(int, input().split()))\n",
    "\n",
    "print(type(y))\n",
    "x=tuple(y)\n",
    "print(x)"
   ]
  },
  {
   "cell_type": "code",
   "execution_count": 1,
   "id": "78e24587",
   "metadata": {},
   "outputs": [
    {
     "name": "stdout",
     "output_type": "stream",
     "text": [
      "Element at odd-index positions from list one\n",
      "[6, 12, 18]\n",
      "Element at even-index positions from list two\n",
      "[4, 12, 20, 28]\n",
      "Printing Final third list\n",
      "[6, 12, 18, 4, 12, 20, 28]\n"
     ]
    }
   ],
   "source": [
    "#Exercise 3\n",
    "#Take the following two lists. Create a third list by picking a \n",
    "#-odd-index elements from the first list and even-index elements from the second.\n",
    "#I am going to do what I understand \n",
    "list1 = [3, 6, 9, 12, 15, 18, 21]\n",
    "list2 = [4, 8, 12, 16, 20, 24, 28]\n",
    "res = list()\n",
    "\n",
    "odd_elements = list1[1::2]\n",
    "print(\"Element at odd-index positions from list one\")\n",
    "print(odd_elements)\n",
    "\n",
    "even_elements = list2[0::2]\n",
    "print(\"Element at even-index positions from list two\")\n",
    "print(even_elements)\n",
    "\n",
    "print(\"Printing Final third list\")\n",
    "res.extend(odd_elements)\n",
    "res.extend(even_elements)\n",
    "print(res)"
   ]
  },
  {
   "cell_type": "code",
   "execution_count": 6,
   "id": "b355420c",
   "metadata": {},
   "outputs": [
    {
     "name": "stdout",
     "output_type": "stream",
     "text": [
      "Original list  [11, 45, 8, 23, 14, 12, 78, 45, 89]\n",
      "Chunk  0 [11, 45, 8]\n",
      "After reversing it  [8, 45, 11]\n",
      "Chunk  1 [23, 14, 12]\n",
      "After reversing it  [12, 14, 23]\n",
      "Chunk  2 [78, 45, 89]\n",
      "After reversing it  [89, 45, 78]\n"
     ]
    }
   ],
   "source": [
    "#Exercise 4\n",
    "#Take the following list. Slice it into three equal chunks and \n",
    "#-reverse each list.\n",
    "#note: name in parenthesis must match name defined \n",
    "\n",
    "samplelist = [11, 45, 8, 23, 14, 12, 78, 45, 89]\n",
    "print(\"Original list \", samplelist)\n",
    "\n",
    "#define length\n",
    "#length is equally divided /3\n",
    "#start from first postition and end determines chunk size \n",
    "length = len(samplelist)\n",
    "chunk_size = int(length / 3)\n",
    "start = 0\n",
    "end = chunk_size\n",
    "\n",
    "#indexing and slicing\n",
    "# run loop 3 times\n",
    "for i in range(3):\n",
    "    # get indexes\n",
    "    indexes = slice(start, end)\n",
    "    \n",
    "    # get chunk\n",
    "    list_chunk = samplelist[indexes]\n",
    "    print(\"Chunk \", i, list_chunk)\n",
    "    \n",
    "    # reverse chunk\n",
    "    print(\"After reversing it \", list(reversed(list_chunk)))\n",
    "\n",
    "    start = end\n",
    "    end += chunk_size"
   ]
  },
  {
   "cell_type": "code",
   "execution_count": 15,
   "id": "624a429e",
   "metadata": {},
   "outputs": [
    {
     "name": "stdout",
     "output_type": "stream",
     "text": [
      "List: [47, 64, 69, 37, 76, 83, 95, 97]\n",
      "Dictionary: {'Zach': 47, 'Emma': 69, 'Kelly': 76, 'Jason': 97}\n",
      "after removing unwanted elements from list: [47, 69, 76, 97]\n"
     ]
    }
   ],
   "source": [
    "#Exercise 5\n",
    "#Iterate through a given list and check if a given element already \n",
    "#-exists in a dictionary as a key’s value. \n",
    "#If not, delete it from the list.\n",
    "\n",
    "rollNumber = [47, 64, 69, 37, 76, 83, 95, 97]\n",
    "sampleDict ={'Zach':47, 'Emma':69, 'Kelly':76, 'Jason':97}\n",
    "print(\"List:\", rollNumber)\n",
    "print(\"Dictionary:\", sampleDict)\n",
    "\n",
    "#Create a new list that may have the given element \n",
    "#NOTE: underscores in names are pullin an error, remove them.\n",
    "rollNumber[:] = [item for item in rollNumber if item in sampleDict.values()]\n",
    "print(\"after removing unwanted elements from list:\", rollNumber)\n",
    "\n"
   ]
  }
 ],
 "metadata": {
  "kernelspec": {
   "display_name": "Python 3 (ipykernel)",
   "language": "python",
   "name": "python3"
  },
  "language_info": {
   "codemirror_mode": {
    "name": "ipython",
    "version": 3
   },
   "file_extension": ".py",
   "mimetype": "text/x-python",
   "name": "python",
   "nbconvert_exporter": "python",
   "pygments_lexer": "ipython3",
   "version": "3.9.12"
  }
 },
 "nbformat": 4,
 "nbformat_minor": 5
}
