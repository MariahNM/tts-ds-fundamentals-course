{
 "cells": [
  {
   "cell_type": "code",
   "execution_count": 2,
   "id": "5ad569d4",
   "metadata": {},
   "outputs": [],
   "source": [
    "#CLASS NOTES: DOCUMENTATION FIRST, GOOGLE SECOND\n",
    "#Regex is used for finding patterns. Locate patterns and store them\n"
   ]
  },
  {
   "cell_type": "code",
   "execution_count": 7,
   "id": "159f9c26",
   "metadata": {},
   "outputs": [
    {
     "name": "stdout",
     "output_type": "stream",
     "text": [
      "1 4 9 16 25 36 49 64 81\n"
     ]
    }
   ],
   "source": [
    "import re\n",
    "\n",
    "#Squaring numbers\n",
    "#Reminder: using a double ** for exponential operator \n",
    "#-returning the full strong matched by Regex \n",
    "def square(match):\n",
    "    number = int(match.group(0))\n",
    "    return str(number**2)\n",
    "\n",
    "print (re.sub(r\"\\d+\", square, \"1 2 3 4 5 6 7 8 9\"))"
   ]
  },
  {
   "cell_type": "code",
   "execution_count": null,
   "id": "a44a77f6",
   "metadata": {},
   "outputs": [],
   "source": []
  }
 ],
 "metadata": {
  "kernelspec": {
   "display_name": "Python 3 (ipykernel)",
   "language": "python",
   "name": "python3"
  },
  "language_info": {
   "codemirror_mode": {
    "name": "ipython",
    "version": 3
   },
   "file_extension": ".py",
   "mimetype": "text/x-python",
   "name": "python",
   "nbconvert_exporter": "python",
   "pygments_lexer": "ipython3",
   "version": "3.9.12"
  }
 },
 "nbformat": 4,
 "nbformat_minor": 5
}
