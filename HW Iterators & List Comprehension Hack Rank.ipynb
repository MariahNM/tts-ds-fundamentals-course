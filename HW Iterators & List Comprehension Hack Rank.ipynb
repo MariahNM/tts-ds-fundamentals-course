{
 "cells": [
  {
   "cell_type": "code",
   "execution_count": 2,
   "id": "04f43693",
   "metadata": {},
   "outputs": [
    {
     "name": "stdout",
     "output_type": "stream",
     "text": [
      "7 8 6\n",
      "8 6 5\n",
      "(7, 8) (7, 6) (7, 5) (8, 8) (8, 6) (8, 5) (6, 8) (6, 6) (6, 5) "
     ]
    }
   ],
   "source": [
    "#EXERISE 1\n",
    "# Compute cartesian product AxB\n",
    "# Note:  and  are sorted lists, and the \n",
    "#-cartesian product's tuples should be output in sorted order.\n",
    "#A = [1, 2]\n",
    "#B = [3, 4]\n",
    "#AxB = [(1, 3), (1, 4), (2, 3), (2, 4)]\n",
    "#Both lists have no duplicate integer elements\n",
    "\n",
    "from itertools import product\n",
    "A = input().split()\n",
    "A = list(map(int,A))\n",
    "B = input().split()\n",
    "B = list(map(int, B))\n",
    "output = list(product(A,B))\n",
    "for i in output:\n",
    "    print(i, end = \" \");\n"
   ]
  },
  {
   "cell_type": "code",
   "execution_count": 3,
   "id": "ec2979cf",
   "metadata": {},
   "outputs": [
    {
     "name": "stdout",
     "output_type": "stream",
     "text": [
      "CONFUSED 2\n",
      "C\n",
      "D\n",
      "E\n",
      "F\n",
      "N\n",
      "O\n",
      "S\n",
      "U\n",
      "CD\n",
      "CE\n",
      "CF\n",
      "CN\n",
      "CO\n",
      "CS\n",
      "CU\n",
      "DE\n",
      "DF\n",
      "DN\n",
      "DO\n",
      "DS\n",
      "DU\n",
      "EF\n",
      "EN\n",
      "EO\n",
      "ES\n",
      "EU\n",
      "FN\n",
      "FO\n",
      "FS\n",
      "FU\n",
      "NO\n",
      "NS\n",
      "NU\n",
      "OS\n",
      "OU\n",
      "SU\n"
     ]
    }
   ],
   "source": [
    "#EXERCISE 2\n",
    "#given string S, \n",
    "#-print all possible permutations of size  of the string \n",
    "#-in lexicographic sorted order.\n",
    "#Constraints: The string contains only UPPERCASE characters\n",
    "#0<k≤lens(S)\n",
    "#need more work on this\n",
    "\n",
    "from itertools import combinations\n",
    "\n",
    "io = input().split()\n",
    "S = io[0]\n",
    "k = int(io[1])\n",
    "for i in range(1,k+1):\n",
    "    for j in combinations(sorted(S),i):\n",
    "        print(\"\".join(j))"
   ]
  },
  {
   "cell_type": "code",
   "execution_count": null,
   "id": "1fb940d8",
   "metadata": {},
   "outputs": [],
   "source": []
  },
  {
   "cell_type": "code",
   "execution_count": null,
   "id": "683ff673",
   "metadata": {},
   "outputs": [],
   "source": []
  }
 ],
 "metadata": {
  "kernelspec": {
   "display_name": "Python 3 (ipykernel)",
   "language": "python",
   "name": "python3"
  },
  "language_info": {
   "codemirror_mode": {
    "name": "ipython",
    "version": 3
   },
   "file_extension": ".py",
   "mimetype": "text/x-python",
   "name": "python",
   "nbconvert_exporter": "python",
   "pygments_lexer": "ipython3",
   "version": "3.9.12"
  }
 },
 "nbformat": 4,
 "nbformat_minor": 5
}
