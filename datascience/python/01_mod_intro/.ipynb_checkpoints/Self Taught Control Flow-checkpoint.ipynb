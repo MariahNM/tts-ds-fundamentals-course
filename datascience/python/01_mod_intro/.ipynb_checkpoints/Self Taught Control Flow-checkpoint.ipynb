{
 "cells": [
  {
   "cell_type": "code",
   "execution_count": 1,
   "id": "05042284",
   "metadata": {},
   "outputs": [
    {
     "name": "stdout",
     "output_type": "stream",
     "text": [
      "It's warm\n",
      "Drink water\n",
      "Done\n"
     ]
    }
   ],
   "source": [
    "#Cite: \"Programming with Mosh\" on Youtube\n",
    "#Be careful about indentations\n",
    "#Don'e remeove the indentation before \"Done\" too soon\n",
    "#Make sure to end code with a colon when necessary \n",
    "temperature = 35\n",
    "if temperature > 30:\n",
    "    print(\"It's warm\")\n",
    "    print(\"Drink water\")\n",
    "elif temperature > 20:\n",
    "    print(\"It's nice\")\n",
    "else:\n",
    "    print(\"It's cold\")\n",
    "print(\"Done\")"
   ]
  },
  {
   "cell_type": "code",
   "execution_count": 2,
   "id": "1d57f429",
   "metadata": {},
   "outputs": [],
   "source": [
    "#How to write clean code\n",
    "#define a variable\n",
    "#simple code is better\n",
    "#ternery opperator\n",
    "age = 22\n",
    "if age >= 18:\n",
    "    message = \"Eligible\"\n",
    "else:\n",
    "    message = \"Not Eligible\""
   ]
  },
  {
   "cell_type": "code",
   "execution_count": 3,
   "id": "29d5aaf2",
   "metadata": {},
   "outputs": [
    {
     "name": "stdout",
     "output_type": "stream",
     "text": [
      "Not eligible\n"
     ]
    }
   ],
   "source": [
    "#Now it will be updated to a ternery opperator\n",
    "age = 12\n",
    "message = \"Eligible\" if age >= 18 else \"Not eligible\"\n",
    "print(message)"
   ]
  },
  {
   "cell_type": "code",
   "execution_count": 4,
   "id": "8dc51fa7",
   "metadata": {},
   "outputs": [
    {
     "name": "stdout",
     "output_type": "stream",
     "text": [
      "Eligible\n"
     ]
    }
   ],
   "source": [
    "#Logic operators are used to model complex conditions\n",
    "#operators are and, or and not\n",
    "high_income = True\n",
    "good_credit = True\n",
    "if high_income and good_credit:\n",
    "    print(\"Eligible\")\n",
    "else: \n",
    "    print(\"Not eligbile\")"
   ]
  },
  {
   "cell_type": "code",
   "execution_count": 5,
   "id": "9834fbaa",
   "metadata": {},
   "outputs": [
    {
     "name": "stdout",
     "output_type": "stream",
     "text": [
      "Eligible\n"
     ]
    }
   ],
   "source": [
    "# Now replace and with or\n",
    "high_income = True\n",
    "good_credit = True\n",
    "if high_income or good_credit:\n",
    "    print(\"Eligible\")\n",
    "else: \n",
    "    print(\"Not eligbile\")"
   ]
  },
  {
   "cell_type": "code",
   "execution_count": 6,
   "id": "4af518d7",
   "metadata": {},
   "outputs": [
    {
     "name": "stdout",
     "output_type": "stream",
     "text": [
      "Not eligible\n"
     ]
    }
   ],
   "source": [
    "# Now replace with not\n",
    "high_income = True\n",
    "good_credit = True\n",
    "student = True\n",
    "if not student:\n",
    "    print(\"Eligible\")\n",
    "else:\n",
    "    print(\"Not eligible\")"
   ]
  },
  {
   "cell_type": "code",
   "execution_count": 7,
   "id": "48242c97",
   "metadata": {},
   "outputs": [
    {
     "name": "stdout",
     "output_type": "stream",
     "text": [
      "Eligible\n"
     ]
    }
   ],
   "source": [
    "#Now change statement to false\n",
    "#When student = false, the \"if not\" statement becomes true\n",
    "high_income = True\n",
    "good_credit = True\n",
    "student = False\n",
    "if not student:\n",
    "    print(\"Eligible\")\n",
    "else:\n",
    "    print(\"Not eligible\")"
   ]
  },
  {
   "cell_type": "code",
   "execution_count": 8,
   "id": "af40a17c",
   "metadata": {},
   "outputs": [
    {
     "name": "stdout",
     "output_type": "stream",
     "text": [
      "Eligible\n"
     ]
    }
   ],
   "source": [
    "#if at least one condition is true\n",
    "high_income = True\n",
    "good_credit = True\n",
    "student = False\n",
    "if (high_income or good_credit) and not student:\n",
    "#parenthesis eparate this fromt the other condition\n",
    "    print(\"Eligible\")\n",
    "else:\n",
    "    print(\"Not eligible\")"
   ]
  },
  {
   "cell_type": "code",
   "execution_count": 9,
   "id": "da4de338",
   "metadata": {},
   "outputs": [
    {
     "name": "stdout",
     "output_type": "stream",
     "text": [
      "Eligible\n"
     ]
    }
   ],
   "source": [
    "#Bulleaon operators are short circuit\n",
    "#Continues the evaluationt to the end of the expression\n",
    "#When the first arguement negates the second argument, the next argument doesn't matter unless it is true. \n",
    "#In Python, logical operators are short circuit \n",
    "high_income = True\n",
    "good_credit = True\n",
    "student = False\n",
    "if (high_income or good_credit) or not student:\n",
    "    print(\"Eligible\")\n",
    "else:\n",
    "    print(\"Not eligible\")"
   ]
  },
  {
   "cell_type": "code",
   "execution_count": 12,
   "id": "53d5d9fb",
   "metadata": {},
   "outputs": [
    {
     "name": "stdout",
     "output_type": "stream",
     "text": [
      "ELigible\n"
     ]
    }
   ],
   "source": [
    "# age should be between 18 and 65\n",
    "# How to implement instructions in an age range \n",
    "age = 22\n",
    "#if age >= 18 and age 65:\n",
    "#Can make it cleaner by writing the following:\n",
    "#Chaining comparison operators\n",
    "if 18 <= age < 65:\n",
    "    print(\"ELigible\")"
   ]
  },
  {
   "cell_type": "code",
   "execution_count": 13,
   "id": "155240ed",
   "metadata": {},
   "outputs": [
    {
     "name": "stdout",
     "output_type": "stream",
     "text": [
      "c\n"
     ]
    }
   ],
   "source": [
    "# \"==\" is used to compare to integers or strings. \n",
    "#If the values on either side are the same(equal), \n",
    "#than the program returns \"True\". If they're different(unequal), \n",
    "#the program returns \"False\".\n",
    "\n",
    "if 10 == \"10\":\n",
    "    print(\"a\")\n",
    "elif \"bag\" > \"apple\" and \"bag\" > \"cat\":\n",
    "    print(\"b\")\n",
    "else:\n",
    "    print(\"c\")"
   ]
  },
  {
   "cell_type": "code",
   "execution_count": null,
   "id": "66692468",
   "metadata": {},
   "outputs": [],
   "source": [
    "#Code above compared an integer and a string which are not equal. \n",
    "#bag is not greater than cat because it comes before cat in the alphabet. \n",
    "#The else statement is accuate. "
   ]
  }
 ],
 "metadata": {
  "kernelspec": {
   "display_name": "Python 3 (ipykernel)",
   "language": "python",
   "name": "python3"
  },
  "language_info": {
   "codemirror_mode": {
    "name": "ipython",
    "version": 3
   },
   "file_extension": ".py",
   "mimetype": "text/x-python",
   "name": "python",
   "nbconvert_exporter": "python",
   "pygments_lexer": "ipython3",
   "version": "3.9.12"
  }
 },
 "nbformat": 4,
 "nbformat_minor": 5
}
