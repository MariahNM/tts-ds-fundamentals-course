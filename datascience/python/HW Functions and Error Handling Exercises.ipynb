{
 "cells": [
  {
   "cell_type": "code",
   "execution_count": 4,
   "id": "55357f2e",
   "metadata": {},
   "outputs": [
    {
     "name": "stdout",
     "output_type": "stream",
     "text": [
      "2010\n",
      "False\n"
     ]
    }
   ],
   "source": [
    "#EXERCISE 1\n",
    "#determine whether it is a leap year\n",
    "#Note that the code stub provided \n",
    "#-reads from STDIN and passes arguments to the is_leap function.\n",
    "#Constraints: 1900≤year≤10exponent5 \n",
    "\n",
    "def is_leap(year):\n",
    "    leap = False\n",
    "    \n",
    "    if year % 400 == 0:\n",
    "        leap = True\n",
    "    elif year % 100 == 0:\n",
    "        leap = False\n",
    "    elif year % 4 == 0:\n",
    "        leap = True\n",
    "    return leap\n",
    "    \n",
    "year = int(input())\n",
    "print (is_leap(year))\n"
   ]
  },
  {
   "cell_type": "code",
   "execution_count": 5,
   "id": "342e91bb",
   "metadata": {},
   "outputs": [
    {
     "name": "stdout",
     "output_type": "stream",
     "text": [
      "3\n",
      "1 0\n",
      "2 $\n",
      "3 1\n",
      "Error Code: integer division or modulo by zero\n",
      "Error Code: invalid literal for int() with base 10: '$'\n",
      "3\n"
     ]
    }
   ],
   "source": [
    "#EXERCISE 2\n",
    "#Perform integer division and print \n",
    "#The first line contains , the number of test cases. \n",
    "#The next lines each contain the space separated values of  and .\n",
    "#Constraints: 0<T<10\n",
    "#Print the value of a/b\n",
    "\n",
    "N = int(input())\n",
    "a = []\n",
    "for i in range(N):\n",
    "    a.append(input().split())\n",
    "for j in range(len(a)):\n",
    "    try:\n",
    "        print (int(a[j][0])//int(a[j][1]))\n",
    "    except ZeroDivisionError as e:\n",
    "        print (\"Error Code:\", e)\n",
    "    except ValueError as f:\n",
    "        print (\"Error Code:\", f)"
   ]
  },
  {
   "cell_type": "code",
   "execution_count": null,
   "id": "1487de50",
   "metadata": {},
   "outputs": [],
   "source": []
  }
 ],
 "metadata": {
  "kernelspec": {
   "display_name": "Python 3 (ipykernel)",
   "language": "python",
   "name": "python3"
  },
  "language_info": {
   "codemirror_mode": {
    "name": "ipython",
    "version": 3
   },
   "file_extension": ".py",
   "mimetype": "text/x-python",
   "name": "python",
   "nbconvert_exporter": "python",
   "pygments_lexer": "ipython3",
   "version": "3.9.12"
  }
 },
 "nbformat": 4,
 "nbformat_minor": 5
}
