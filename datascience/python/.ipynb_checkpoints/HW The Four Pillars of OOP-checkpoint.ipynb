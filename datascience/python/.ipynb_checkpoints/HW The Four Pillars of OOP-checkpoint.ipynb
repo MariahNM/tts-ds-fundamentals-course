{
 "cells": [
  {
   "cell_type": "code",
   "execution_count": null,
   "id": "3073e423",
   "metadata": {},
   "outputs": [],
   "source": [
    "#Abstraction\n",
    "#Encapsulation\n",
    "#Inheritance\n",
    "#Polymorphism\n",
    "\n",
    "#CITE: freeCodeCamp"
   ]
  },
  {
   "cell_type": "code",
   "execution_count": 6,
   "id": "19a4aef8",
   "metadata": {},
   "outputs": [
    {
     "ename": "SyntaxError",
     "evalue": "invalid syntax (2111430095.py, line 4)",
     "output_type": "error",
     "traceback": [
      "\u001b[0;36m  Input \u001b[0;32mIn [6]\u001b[0;36m\u001b[0m\n\u001b[0;31m    function hitAPI(type){\u001b[0m\n\u001b[0m             ^\u001b[0m\n\u001b[0;31mSyntaxError\u001b[0m\u001b[0;31m:\u001b[0m invalid syntax\n"
     ]
    }
   ],
   "source": [
    "#ABSTRACTION\n",
    "#Not abstracted away at all\n",
    "\n",
    "function hitAPI(type){\n",
    "\tif (type instanceof InitialLoad) {\n",
    "\t\t// Implementation example\n",
    "\t} else if (type instanceof NavBar) {\n",
    "\t\t// Implementation example\n",
    "\t} else {\n",
    "\t\t// Implementation example\n",
    "\t}\n",
    "}\n",
    "    \n",
    "    \n",
    "    "
   ]
  },
  {
   "cell_type": "code",
   "execution_count": 3,
   "id": "333d146d",
   "metadata": {},
   "outputs": [
    {
     "ename": "NameError",
     "evalue": "name 'hitApi' is not defined",
     "output_type": "error",
     "traceback": [
      "\u001b[0;31m---------------------------------------------------------------------------\u001b[0m",
      "\u001b[0;31mNameError\u001b[0m                                 Traceback (most recent call last)",
      "Input \u001b[0;32mIn [3]\u001b[0m, in \u001b[0;36m<cell line: 1>\u001b[0;34m()\u001b[0m\n\u001b[0;32m----> 1\u001b[0m \u001b[43mhitApi\u001b[49m(\u001b[38;5;124m'\u001b[39m\u001b[38;5;124mwww.kealanparr.com\u001b[39m\u001b[38;5;124m'\u001b[39m, HTTPMethod\u001b[38;5;241m.\u001b[39mGet)\n",
      "\u001b[0;31mNameError\u001b[0m: name 'hitApi' is not defined"
     ]
    }
   ],
   "source": [
    "#This is abstracted away\n",
    "\n",
    "hitApi('www.kealanparr.com', HTTPMethod.Get)"
   ]
  },
  {
   "cell_type": "code",
   "execution_count": null,
   "id": "f9bc7877",
   "metadata": {},
   "outputs": [],
   "source": [
    "#How to Create it With Abstraction\n",
    "#Have a button with the title \"Make coffee\""
   ]
  },
  {
   "cell_type": "code",
   "execution_count": null,
   "id": "e3cd8304",
   "metadata": {},
   "outputs": [],
   "source": [
    "#How to Create it Without Abstraction\n",
    "#Have a button with the title \"Boil the water\"\n",
    "#Have a button with the title \"Add the cold water to the kettle\"\n",
    "#Have a button with the title \"Add 1 spoon of ground coffee to a clean cup\"\n",
    "#Have a button with the title \"Clean any dirty cups\"\n",
    "#And all the other buttons"
   ]
  },
  {
   "cell_type": "code",
   "execution_count": 4,
   "id": "3bde3411",
   "metadata": {},
   "outputs": [
    {
     "ename": "SyntaxError",
     "evalue": "invalid syntax (1651521442.py, line 3)",
     "output_type": "error",
     "traceback": [
      "\u001b[0;36m  Input \u001b[0;32mIn [4]\u001b[0;36m\u001b[0m\n\u001b[0;31m    var Dog = (function () {\u001b[0m\n\u001b[0m        ^\u001b[0m\n\u001b[0;31mSyntaxError\u001b[0m\u001b[0;31m:\u001b[0m invalid syntax\n"
     ]
    }
   ],
   "source": [
    "#ENCAPSULATION\n",
    "#(called an Immediately Invoked Function Expression, or IIFE for short)\n",
    "var Dog = (function () {\n",
    "\n",
    "\t// Private\n",
    "\tvar play = function () {\n",
    "\t\t// play implementation\n",
    "\t};\n",
    "    \n",
    "\t// Private\n",
    "\tvar breed = \"Dalmatian\"\n",
    "    \n",
    "\t// Public\n",
    "\tvar name = \"Rex\";\n",
    "\n",
    "\t// Public\n",
    "\tvar makeNoise = function () {\n",
    " \t\treturn 'Bark bark!';\n",
    "\t};\n",
    "\n",
    " \treturn {\n",
    "\t\tmakeNoise: makeNoise,\n",
    "\t\tname: name\n",
    " \t};\n",
    "})();"
   ]
  },
  {
   "cell_type": "code",
   "execution_count": null,
   "id": "3ef18d5a",
   "metadata": {},
   "outputs": [],
   "source": [
    "#INHERITANCE\n",
    "#lets one object acquire the properties and methods of another object.\n",
    "#Developers have a principle called the Liskov Substitution \n",
    "#-principle. It states that if you can use a parent class \n",
    "#-(let's call it ParentType) anywhere you use a child (let's call it ChildType) – and ChildType inherits from the ParentType \n",
    "#– then you pass the test."
   ]
  },
  {
   "cell_type": "code",
   "execution_count": 5,
   "id": "902c32c7",
   "metadata": {},
   "outputs": [
    {
     "ename": "SyntaxError",
     "evalue": "invalid syntax (1733390600.py, line 3)",
     "output_type": "error",
     "traceback": [
      "\u001b[0;36m  Input \u001b[0;32mIn [5]\u001b[0;36m\u001b[0m\n\u001b[0;31m    // Let's set up an Animal and Dog example\u001b[0m\n\u001b[0m    ^\u001b[0m\n\u001b[0;31mSyntaxError\u001b[0m\u001b[0;31m:\u001b[0m invalid syntax\n"
     ]
    }
   ],
   "source": [
    "#POLYMORPHISM\n",
    "#\"the condition of occurring in several different forms.\"\n",
    "// Let's set up an Animal and Dog example\n",
    "function Animal(){}\n",
    "function Dog(){}\n",
    "\n",
    "Animal.prototype.makeNoise = function(){\n",
    "\tconsole.log(\"Base noise\");\n",
    "};\n",
    "\n",
    "// Most animals we code up have 4. This can be overridden if needed\n",
    "Animal.prototype.legs = 4;\n",
    "\n",
    "Dog.prototype = new Animal();\n",
    "\n",
    "Dog.prototype.makeNoise = function(){\n",
    "\tconsole.log(\"Woof woof\");  \n",
    "};\n",
    "\n",
    "var animal = new Animal();\n",
    "var dog = new Dog();\n",
    "\n",
    "animal.makeNoise(); // Base noise\n",
    "dog.makeNoise();    // Woof woof- this was overridden\n",
    "dog.legs;           // 4! This was inherited"
   ]
  },
  {
   "cell_type": "code",
   "execution_count": null,
   "id": "c322ee52",
   "metadata": {},
   "outputs": [],
   "source": []
  }
 ],
 "metadata": {
  "kernelspec": {
   "display_name": "Python 3 (ipykernel)",
   "language": "python",
   "name": "python3"
  },
  "language_info": {
   "codemirror_mode": {
    "name": "ipython",
    "version": 3
   },
   "file_extension": ".py",
   "mimetype": "text/x-python",
   "name": "python",
   "nbconvert_exporter": "python",
   "pygments_lexer": "ipython3",
   "version": "3.9.12"
  }
 },
 "nbformat": 4,
 "nbformat_minor": 5
}
