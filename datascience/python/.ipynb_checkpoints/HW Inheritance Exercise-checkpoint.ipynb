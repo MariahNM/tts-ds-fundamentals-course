{
 "cells": [
  {
   "cell_type": "code",
   "execution_count": null,
   "id": "5edb079c",
   "metadata": {},
   "outputs": [],
   "source": [
    "#Inheritance Exercise\n",
    "#two classes, Person and Student, where \n",
    "#Person is the base class and Student is the derived class. \n",
    "#Student class constructor, which has 4 parameters:\n",
    "#-1)firstName, 2)lastName, 3)id, and\n",
    "#-and, 4)an array of integers denoting test scores \n",
    "#Note: Indentations very important\n",
    "#Reminder: __init__(). This essentially removes the self parameter\n",
    "\n",
    "class Person:\n",
    "    def __init__(self, firstName, lastName, idNumber, scores):\n",
    "        self.firstName = firstName\n",
    "        self.lastName = lastName\n",
    "        self.idNumber = idNumber\n",
    "        self.scores = scores\n",
    "    def printPerson(self):\n",
    "        print(\"Name: \" + lastName + \", \" +firstName)\n",
    "        print(\"ID:\", idNumber)\n",
    "    \n",
    "class Student(Person):\n",
    "\n",
    "    def __init__(self, firstName, lastName, idNumber, scores):\n",
    "        Person.__init__(self, firstName, lastName, idNumber)\n",
    "        self.scores = scores\n",
    "    \n",
    "    def calculate(self):\n",
    "        avg = sum(scores)/len(scores)\n",
    "        if avg <= 100 and avg >= 90:\n",
    "            return 'A'\n",
    "        if avg < 90 and avg >=80:\n",
    "            return 'B'\n",
    "        if avg < 80 and avg >=70: \n",
    "            return 'C'\n",
    "        if avg < 70 and avg >=60:\n",
    "            return 'D'\n",
    "        if avg < 60:\n",
    "            return 'F'\n",
    "        else:\n",
    "            return 'G'\n",
    "line = input().split()\n",
    "firstName = line[0]\n",
    "lastName = line[1]\n",
    "idNum = line[2]\n",
    "numScores = int(input()) # not needed for Python\n",
    "scores = list( map(int, input().split()) )\n",
    "s = Student(firstName, lastName, idNum, scores)\n",
    "s.printPerson()\n",
    "print(\"Grade:\", s.calculate())"
   ]
  },
  {
   "cell_type": "code",
   "execution_count": null,
   "id": "e898cf71",
   "metadata": {},
   "outputs": [],
   "source": []
  }
 ],
 "metadata": {
  "kernelspec": {
   "display_name": "Python 3 (ipykernel)",
   "language": "python",
   "name": "python3"
  },
  "language_info": {
   "codemirror_mode": {
    "name": "ipython",
    "version": 3
   },
   "file_extension": ".py",
   "mimetype": "text/x-python",
   "name": "python",
   "nbconvert_exporter": "python",
   "pygments_lexer": "ipython3",
   "version": "3.9.12"
  }
 },
 "nbformat": 4,
 "nbformat_minor": 5
}
