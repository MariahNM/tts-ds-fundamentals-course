{
 "cells": [
  {
   "cell_type": "code",
   "execution_count": 2,
   "id": "da79933d",
   "metadata": {},
   "outputs": [
    {
     "name": "stdout",
     "output_type": "stream",
     "text": [
      "Guess a number between 1 and 9 until you get it right : 3\n",
      "Guess a number between 1 and 9 until you get it right : 4\n",
      "Guess a number between 1 and 9 until you get it right : 1\n",
      "Guess a number between 1 and 9 until you get it right : 6\n",
      "Guess a number between 1 and 9 until you get it right : 7\n",
      "Guess a number between 1 and 9 until you get it right : 5\n",
      "Guess a number between 1 and 9 until you get it right : 2\n",
      "Well guessed\n"
     ]
    }
   ],
   "source": [
    "#Exercise 1\n",
    "#Guess a number between 1 to 9 given by the user\n",
    "import random\n",
    "target_num, guess_num = random.randint(1, 10), 0\n",
    "while target_num != guess_num:\n",
    "    guess_num = int(input('Guess a number between 1 and 9 until you get it right : '))\n",
    "#note the indentation is removed\n",
    "print('Well guessed')"
   ]
  },
  {
   "cell_type": "code",
   "execution_count": null,
   "id": "00bea452",
   "metadata": {},
   "outputs": [],
   "source": [
    "#So cool!"
   ]
  },
  {
   "cell_type": "code",
   "execution_count": 2,
   "id": "56b5ad76",
   "metadata": {},
   "outputs": [
    {
     "name": "stdout",
     "output_type": "stream",
     "text": [
      "Guess a number between 1 and 9 until you get it right : 6\n",
      "Guess a number between 1 and 9 until you get it right : 4\n",
      "Guess a number between 1 and 9 until you get it right : 2\n",
      "Guess a number between 1 and 9 until you get it right : 1\n",
      "Guess a number between 1 and 9 until you get it right : 3\n",
      "Guess a number between 1 and 9 until you get it right : 5\n",
      "Guess a number between 1 and 9 until you get it right : 7\n",
      "Guess a number between 1 and 9 until you get it right : 8\n",
      "Guess a number between 1 and 9 until you get it right : 9\n",
      "Well guessed\n"
     ]
    }
   ],
   "source": [
    "#Exercise 1\n",
    "#Guess a number between 1 to 9 given by the user\n",
    "import random\n",
    "target_num, guess_num = random.randint(1, 9), 0\n",
    "while target_num != guess_num:\n",
    "    guess_num = int(input('Guess a number between 1 and 9 until you get it right : '))\n",
    "#note the indentation is removed\n",
    "print('Well guessed')"
   ]
  },
  {
   "cell_type": "code",
   "execution_count": 5,
   "id": "64e1aafb",
   "metadata": {},
   "outputs": [
    {
     "name": "stdout",
     "output_type": "stream",
     "text": [
      "Input your passwordMypasswordispassword\n",
      "Not a Valid Password\n"
     ]
    }
   ],
   "source": [
    "#Exercise 2\n",
    "#Check the validity of password input by the user.\n",
    "\n",
    "#Validation:\n",
    "#At least 1 letter between [a-z] and 1 letter between #[A-Z]\n",
    "#At least 1 character from [$#@]\n",
    "#Minimum length 6 characters\n",
    "#Maximum length 16 characters\n",
    "#Reminder: \"re\" Regular Expression Syntax. \n",
    "#-A regular expression (or RE) specifies a set of strings \n",
    "#-that matches it\n",
    "\n",
    "import re\n",
    "p = input(\"Input your password\")\n",
    "x = True\n",
    "while x:\n",
    "    if (len(p)<6 or len(p)>12):\n",
    "        break\n",
    "#NOTE: 'Break' in Python is a loop control statement. \n",
    "#It is used to control the sequence of the loop\n",
    "#Don't forget : at the end\n",
    "    elif not re.search(\"[$#@]\",p):\n",
    "        break\n",
    "    elif not re.search(\"0-9]\",p):\n",
    "        break\n",
    "    elif not re.search(\"A-Z\",p):\n",
    "        break\n",
    "    elif re.search(\"\\s\",p):\n",
    "        break\n",
    "    else:\n",
    "        print(\"Valid Password\")\n",
    "        x=False\n",
    "        break\n",
    "        \n",
    "if x:\n",
    "    print(\"Not a Valid Password\")\n",
    "    \n",
    "#Password entered incorectly to check code"
   ]
  },
  {
   "cell_type": "code",
   "execution_count": 10,
   "id": "ffe58eb2",
   "metadata": {},
   "outputs": [
    {
     "name": "stdout",
     "output_type": "stream",
     "text": [
      "enter age1:89\n",
      "enter age2:60\n",
      "enter age3:12\n",
      "age1 is oldest\n",
      "age3 is youngest\n"
     ]
    }
   ],
   "source": [
    "#Exercise 3\n",
    "#Get input of the age of 3 people by user and determine \n",
    "#oldest and youngest among them\n",
    "#REMINDER: Single quotes for anything that behaves like an Identifier. \n",
    "#Simple logic \n",
    "\n",
    "age1 = int(input('enter age1:'))\n",
    "age2 = int(input('enter age2:'))\n",
    "age3 = int(input('enter age3:'))\n",
    "if age1>age2 and age1>age3:\n",
    "    print('age1 is oldest')\n",
    "elif age2>age1 and age2>age3:\n",
    "    print('age2 is oldest')\n",
    "else:\n",
    "    print('age3 is oldest')\n",
    "if age1<age2 and age1<age3:\n",
    "    print('age1 is youngest')\n",
    "elif age2<age1 and age2<age3:\n",
    "    print('age2 is youngest')\n",
    "else:\n",
    "    print('age3 is youngest')"
   ]
  },
  {
   "cell_type": "code",
   "execution_count": 11,
   "id": "55757b1a",
   "metadata": {},
   "outputs": [
    {
     "name": "stdout",
     "output_type": "stream",
     "text": [
      "Number of classes held:24\n",
      "Number of classes attended22\n",
      "The student is allowed to sit for the exam\n"
     ]
    }
   ],
   "source": [
    "#Exercise 4\n",
    "\n",
    "#A student will not be allowed to sit in exam if his/her \n",
    "#-attendance is less than 75%.\n",
    "#Take following input from user\n",
    "#Number of classes held\n",
    "#Number of classes attended.\n",
    "#And print percentage of class attended\n",
    "#Is student is allowed to sit in exam or not?\n",
    "\n",
    "h = int(input(\"Number of classes held:\"))\n",
    "a = int(input(\"Number of classes attended\"))\n",
    "percentage = a/h*100\n",
    "if percentage > 75: \n",
    "    print(\"The student is allowed to sit for the exam\")\n",
    "else:\n",
    "    print(\"The student is not allowed to sit in the exam\")"
   ]
  },
  {
   "cell_type": "code",
   "execution_count": 13,
   "id": "78c6005f",
   "metadata": {},
   "outputs": [
    {
     "name": "stdout",
     "output_type": "stream",
     "text": [
      "16\n",
      "Weird\n"
     ]
    }
   ],
   "source": [
    "#Exercise 5\n",
    "#Get an integer N from the user and perform the following actions:\n",
    "\n",
    "#REMINDER: The percent sign is called modulo operator ” % “\n",
    "#-which returns the remainder after dividing the left-hand operand \n",
    "#-by right-hand operand.\n",
    "#REMINDER: != is defined as not equal to operator. It returns true \n",
    "#-if operands on either side are not eual to each other, \n",
    "#-and returns false if they are equal.\n",
    "\n",
    "#if N is odd, print \"weird\"\n",
    "n = int(input().strip())\n",
    "if n%2!=0: \n",
    "    print(\"Weird\")\n",
    "\n",
    "#if N is even and in the inclusive range of 2 to 5, print \"Not Weird\"\n",
    "#if N is even and in the inclusive range of 6 to 20, print \"Weird\"\n",
    "#if N is even and greater than 20, print \"Not Weird\"\n",
    "else: \n",
    "    if n>=2 and n<=5:\n",
    "        print(\"Not Weird\")\n",
    "    elif n>=6 and n<=20:\n",
    "        print(\"Weird\")\n",
    "    elif n>20:\n",
    "        print(\"Not Weird\")"
   ]
  }
 ],
 "metadata": {
  "kernelspec": {
   "display_name": "Python 3 (ipykernel)",
   "language": "python",
   "name": "python3"
  },
  "language_info": {
   "codemirror_mode": {
    "name": "ipython",
    "version": 3
   },
   "file_extension": ".py",
   "mimetype": "text/x-python",
   "name": "python",
   "nbconvert_exporter": "python",
   "pygments_lexer": "ipython3",
   "version": "3.9.12"
  }
 },
 "nbformat": 4,
 "nbformat_minor": 5
}
